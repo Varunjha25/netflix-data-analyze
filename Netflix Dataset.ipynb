{
 "cells": [
  {
   "cell_type": "code",
   "execution_count": null,
   "id": "8a98f8d7-1052-4959-8550-4d02db612e14",
   "metadata": {},
   "outputs": [],
   "source": [
    "import pandas as pd      # import pandas library\n",
    "data = pd.read_csv('/home/ankit/Downloads/archive/netflix.csv')   "
   ]
  },
  {
   "cell_type": "code",
   "execution_count": null,
   "id": "7c3eef47-60ba-49a3-911e-5d1eb5fb3eaa",
   "metadata": {},
   "outputs": [],
   "source": [
    "data.shape # TO SHOW NO'S OF ROWS AND COLUMNS"
   ]
  },
  {
   "cell_type": "code",
   "execution_count": null,
   "id": "2846ef7b-0489-47cd-9927-a893b63c0cc4",
   "metadata": {},
   "outputs": [],
   "source": [
    "data.head() #SHOW DATA TOP 5"
   ]
  },
  {
   "cell_type": "code",
   "execution_count": null,
   "id": "e1a9d245-77bb-48a1-9cc1-4d5fb7cd015f",
   "metadata": {},
   "outputs": [],
   "source": [
    "data.tail()  #TO SHOW BOTTOM 5 RECORD "
   ]
  },
  {
   "cell_type": "code",
   "execution_count": null,
   "id": "7a11cae4-9291-4cc2-881e-15f21a2474f4",
   "metadata": {},
   "outputs": [],
   "source": [
    "data.columns   # TO SHOW EACH COLUMN OF DATASET"
   ]
  },
  {
   "cell_type": "code",
   "execution_count": null,
   "id": "b3284646-d120-41a8-ad4a-9d64eb1b4616",
   "metadata": {},
   "outputs": [],
   "source": [
    "data.size  # to show  NO OF TOTAL VALUES (ELEMENTS) IN DATA SETS"
   ]
  },
  {
   "cell_type": "code",
   "execution_count": null,
   "id": "092241a3-b001-4370-a573-9411653a9219",
   "metadata": {},
   "outputs": [],
   "source": [
    "data.dtypes  # TO SHOW DATA-TYPE EACH COLUMNS"
   ]
  },
  {
   "cell_type": "code",
   "execution_count": null,
   "id": "0e80ac0f-e651-44d3-8a98-1ca3d56f1df1",
   "metadata": {},
   "outputs": [],
   "source": [
    "data.info #Gives information about your data"
   ]
  },
  {
   "cell_type": "code",
   "execution_count": null,
   "id": "ff5e2f42-c6a6-42e0-a072-323a489db20a",
   "metadata": {},
   "outputs": [],
   "source": [
    "data.describe()  # describe() method returns description of the data in the DataFrame (i.e. count, mean, std, etc)"
   ]
  },
  {
   "cell_type": "markdown",
   "id": "ffe055e4-b1eb-4933-96c5-b89b6f163fd3",
   "metadata": {},
   "source": [
    "RENAME COLUMN"
   ]
  },
  {
   "cell_type": "code",
   "execution_count": null,
   "id": "8f76b3ae-9b53-42bd-8b9a-5ce4fbedd734",
   "metadata": {},
   "outputs": [],
   "source": [
    "data.rename(columns = {'type' : 'category'}, inplace = True)  # change a column name type => category"
   ]
  },
  {
   "cell_type": "code",
   "execution_count": null,
   "id": "1a0aa353-aebc-4c75-8a42-323f998bea5d",
   "metadata": {},
   "outputs": [],
   "source": [
    "data.dtypes"
   ]
  },
  {
   "cell_type": "markdown",
   "id": "0dadb0c7-cce0-42bd-b507-b9ea3ae36125",
   "metadata": {},
   "source": [
    "TO FIND THE DUPILICATE FUNCTION :"
   ]
  },
  {
   "cell_type": "code",
   "execution_count": null,
   "id": "fb687ab7-7c52-45cc-9d56-2df624ed4e34",
   "metadata": {},
   "outputs": [],
   "source": [
    "data[data.duplicated()]"
   ]
  },
  {
   "cell_type": "code",
   "execution_count": null,
   "id": "0dd4cd7a-bc55-47c6-b27a-3e8bb57bd298",
   "metadata": {},
   "outputs": [],
   "source": [
    "data.drop_duplicates(inplace= True) # TO remove duplicates data for permanently"
   ]
  },
  {
   "cell_type": "markdown",
   "id": "456116e5-6255-4d63-abd8-25e179c78c11",
   "metadata": {},
   "source": [
    "IS THERE ANY NULL VALUES IN PRESENT DATA IN ANY COLUMNS :"
   ]
  },
  {
   "cell_type": "code",
   "execution_count": null,
   "id": "fff83850-bae0-45cd-b0b2-84e8fa2ead88",
   "metadata": {},
   "outputs": [],
   "source": [
    "data.isnull() # to show there is any null values in this data : \n",
    "#  if there is any null values showing True. if not any null  values show false"
   ]
  },
  {
   "cell_type": "code",
   "execution_count": null,
   "id": "6dee5f49-3c57-44b9-aad5-e9d82131ebd3",
   "metadata": {},
   "outputs": [],
   "source": [
    "data.isnull().sum()        #to show the count  of null values in each column"
   ]
  },
  {
   "cell_type": "markdown",
   "id": "111d6af3-4d83-4f49-9e2f-41bd706522fa",
   "metadata": {},
   "source": [
    "SEABORN LIBRARY (HEAT-MAP)"
   ]
  },
  {
   "cell_type": "code",
   "execution_count": null,
   "id": "9a92a776-b9fc-4ba0-bf9f-938a8e2e914b",
   "metadata": {},
   "outputs": [],
   "source": [
    "import seaborn as sns      #  import seaborn  library"
   ]
  },
  {
   "cell_type": "code",
   "execution_count": null,
   "id": "87815cf2-6e22-41ca-a535-affc2eef2aab",
   "metadata": {},
   "outputs": [],
   "source": [
    "sns.heatmap(data.isnull())      #using heat-map to showing null values"
   ]
  },
  {
   "cell_type": "markdown",
   "id": "8c108039-fc08-466c-817d-b4959f1537f5",
   "metadata": {},
   "source": [
    "Q.1) FOR 'HOUSE OF CARDS' WHAT IS THE SHOW ID AND WHO IS THE DIRECTOR OF THIS SHOW ?\n"
   ]
  },
  {
   "cell_type": "markdown",
   "id": "3bcb3922-fc4e-466d-aa97-dc7bba3f6051",
   "metadata": {},
   "source": [
    "isin()"
   ]
  },
  {
   "cell_type": "code",
   "execution_count": null,
   "id": "27f8fccd-a1c2-46bd-91d5-5e7f82568641",
   "metadata": {},
   "outputs": [],
   "source": [
    "data.head()"
   ]
  },
  {
   "cell_type": "code",
   "execution_count": null,
   "id": "8c6b7221-191e-456e-88f9-79532e61b611",
   "metadata": {},
   "outputs": [],
   "source": [
    "data[data['title'].isin(['House of Cards'])] # to show all records of particular item in any column"
   ]
  },
  {
   "cell_type": "markdown",
   "id": "c5e15db2-d369-41c8-8885-ae58203b09c8",
   "metadata": {},
   "source": [
    "str.contains"
   ]
  },
  {
   "cell_type": "code",
   "execution_count": null,
   "id": "7cd857f4-4a6f-45f4-b687-12be291f8d5f",
   "metadata": {},
   "outputs": [],
   "source": [
    "data[data['title'].str.contains('House of Cards')] # as it is same .isin"
   ]
  },
  {
   "cell_type": "markdown",
   "id": "7e8024bc-055c-4953-ae60-69c985547b73",
   "metadata": {},
   "source": [
    "TO_DATETIME"
   ]
  },
  {
   "cell_type": "code",
   "execution_count": null,
   "id": "14a5d19c-a6d8-4c49-85c1-fa974ce653b9",
   "metadata": {},
   "outputs": [],
   "source": [
    "data['date_n'] = pd.to_datetime(data['date_added'])"
   ]
  },
  {
   "cell_type": "code",
   "execution_count": null,
   "id": "4e3fa355-be0f-4dc9-a62b-4640cbb397f9",
   "metadata": {},
   "outputs": [],
   "source": [
    "data.head()"
   ]
  },
  {
   "cell_type": "code",
   "execution_count": null,
   "id": "71d7f664-db92-4418-9114-ba0ff21f7844",
   "metadata": {},
   "outputs": [],
   "source": [
    "data.dtypes"
   ]
  },
  {
   "cell_type": "markdown",
   "id": "8ba2f434-2ad6-4dbc-b166-f06ff11303aa",
   "metadata": {},
   "source": [
    "Q.2) IN WHICH YEAR HIGHEST OF NO TV SHOW AND MOVIES WERE RELEASE ? SHOW BAR GRAPH"
   ]
  },
  {
   "cell_type": "code",
   "execution_count": null,
   "id": "63157ca8-43f9-493f-af4d-22ad28441cc2",
   "metadata": {},
   "outputs": [],
   "source": [
    "data['date_n'].dt.year.value_counts()   #  count heighest movie release which year"
   ]
  },
  {
   "cell_type": "code",
   "execution_count": null,
   "id": "4bbd7b14-0fe4-493c-a888-8e4e49d5a06e",
   "metadata": {},
   "outputs": [],
   "source": [
    "data['date_n'].dt.year.value_counts().plot(kind = 'bar')"
   ]
  },
  {
   "cell_type": "markdown",
   "id": "4a234d7e-9c29-4483-9f0d-1cb36ee50161",
   "metadata": {},
   "source": [
    "Q.3) how many movies and tv show are in this data set ? show bar graph"
   ]
  },
  {
   "cell_type": "code",
   "execution_count": null,
   "id": "a826f78f-ade8-4764-817f-cbeec2892c29",
   "metadata": {},
   "outputs": [],
   "source": [
    "data.groupby('category').category.count()  # to group all unique items of columns  and show thier count"
   ]
  },
  {
   "cell_type": "code",
   "execution_count": null,
   "id": "7969ecc2-c73e-48ed-b154-80502e7480f2",
   "metadata": {},
   "outputs": [],
   "source": [
    "import seaborn as sns\n",
    "import matplotlib.pyplot as plt\n",
    "\n",
    "sns.countplot(data=data, x='category')\n",
    "plt.show()\n"
   ]
  },
  {
   "cell_type": "code",
   "execution_count": null,
   "id": "cf66e7e7-7a70-4b2a-87c0-8bb2448b4a28",
   "metadata": {},
   "outputs": [],
   "source": [
    "# decrease figure and figsize\n",
    "ax = sns.countplot(data =  data, x = 'category')\n",
    "\n",
    "sns.set(rc={'figure.figsize':(3,2)})\n",
    "for bars in ax.containers:\n",
    "    ax.bar_label(bars)"
   ]
  },
  {
   "cell_type": "markdown",
   "id": "6b1c0f61-7ffa-49f0-b7b5-2bfff538db94",
   "metadata": {},
   "source": [
    "Q.4) SHOW ALL THE MOVIES THAT WERE RELEASE IN YEAR IN 2020."
   ]
  },
  {
   "cell_type": "code",
   "execution_count": null,
   "id": "0dc70e16-2373-49c3-86ed-8b9fffcb303d",
   "metadata": {},
   "outputs": [],
   "source": [
    "data.head(1)"
   ]
  },
  {
   "cell_type": "code",
   "execution_count": null,
   "id": "2eaa6316-32b3-4f76-be28-5a24273f6792",
   "metadata": {},
   "outputs": [],
   "source": [
    "data[(data['category'] == 'Movie')&(data['release_year']== 2020)]"
   ]
  },
  {
   "cell_type": "code",
   "execution_count": null,
   "id": "737d6239-6757-41e3-aec4-49a35edb6cf6",
   "metadata": {},
   "outputs": [],
   "source": [
    "data[(data['country']=='India')&(data['title'])]   # these movies and show release only in india"
   ]
  },
  {
   "cell_type": "markdown",
   "id": "85e3f6b7-08f0-4ebc-86cc-c3dceded1ee4",
   "metadata": {},
   "source": [
    "Q.5) SHOW TOP 10 DIRECTORS, WHO GAVE THE HIGHEST NO  OF TV SHOW AND MOVIES IN NETFLIX ?"
   ]
  },
  {
   "cell_type": "code",
   "execution_count": null,
   "id": "4c61865f-150b-4212-ad7d-10a49c970c9a",
   "metadata": {},
   "outputs": [],
   "source": [
    "data.head(5)"
   ]
  },
  {
   "cell_type": "code",
   "execution_count": null,
   "id": "d6c12a49-3ab5-46ee-8b9e-bbffed28921d",
   "metadata": {},
   "outputs": [],
   "source": [
    "data['director'].value_counts().head(10)"
   ]
  },
  {
   "cell_type": "markdown",
   "id": "51b66f9c-2803-4933-b83c-7313b8a0fea8",
   "metadata": {},
   "source": [
    "Q.6) SHOW ALL  THE RECORDS WHERE CATEGORY IS MOVIE & LISTED IN COMEDIES & COUNTRY IS UNITED STATES"
   ]
  },
  {
   "cell_type": "markdown",
   "id": "bf1660c9-85e1-481f-9b83-406b622673e4",
   "metadata": {},
   "source": [
    "(&,OR OPRETOR)"
   ]
  },
  {
   "cell_type": "code",
   "execution_count": null,
   "id": "a849d3fe-1afa-4342-b3d0-f56021c6d98a",
   "metadata": {},
   "outputs": [],
   "source": [
    "data[(data['category']=='Movie')&(data['listed_in']=='Comedies')|(data['country']=='United States')]"
   ]
  },
  {
   "cell_type": "markdown",
   "id": "c2b4d4a1-7da6-4c32-bf48-9062b86774f0",
   "metadata": {},
   "source": [
    "Q.7) HOW MANY TV SHOW AND MOVIE TOM CRUISE  WERE CAST"
   ]
  },
  {
   "cell_type": "code",
   "execution_count": null,
   "id": "0a9a7ade-9c66-4653-8973-d510522641ab",
   "metadata": {},
   "outputs": [],
   "source": [
    "data.head(10)"
   ]
  },
  {
   "cell_type": "code",
   "execution_count": null,
   "id": "9ee624c8-a70b-4811-8a48-22baffda9ace",
   "metadata": {},
   "outputs": [],
   "source": [
    "data[(data['cast']=='Tom Cruise')|(data['category'])]"
   ]
  },
  {
   "cell_type": "markdown",
   "id": "bd9699dc-4ca1-4fed-a6bf-471d4c277585",
   "metadata": {},
   "source": [
    "CREATING NEW DATAFRAME"
   ]
  },
  {
   "cell_type": "code",
   "execution_count": null,
   "id": "f4887ed3-095a-4377-9e6e-4feb2831972d",
   "metadata": {},
   "outputs": [],
   "source": [
    "DATA = data.dropna()    #its drop the row that contains all or any missing values"
   ]
  },
  {
   "cell_type": "code",
   "execution_count": 27,
   "id": "5ffa81f9-445a-4f8a-bfbe-12b871c9042c",
   "metadata": {},
   "outputs": [
    {
     "data": {
      "text/html": [
       "<div>\n",
       "<style scoped>\n",
       "    .dataframe tbody tr th:only-of-type {\n",
       "        vertical-align: middle;\n",
       "    }\n",
       "\n",
       "    .dataframe tbody tr th {\n",
       "        vertical-align: top;\n",
       "    }\n",
       "\n",
       "    .dataframe thead th {\n",
       "        text-align: right;\n",
       "    }\n",
       "</style>\n",
       "<table border=\"1\" class=\"dataframe\">\n",
       "  <thead>\n",
       "    <tr style=\"text-align: right;\">\n",
       "      <th></th>\n",
       "      <th>show_id</th>\n",
       "      <th>category</th>\n",
       "      <th>title</th>\n",
       "      <th>director</th>\n",
       "      <th>cast</th>\n",
       "      <th>country</th>\n",
       "      <th>date_added</th>\n",
       "      <th>release_year</th>\n",
       "      <th>rating</th>\n",
       "      <th>duration</th>\n",
       "      <th>listed_in</th>\n",
       "      <th>description</th>\n",
       "    </tr>\n",
       "  </thead>\n",
       "  <tbody>\n",
       "    <tr>\n",
       "      <th>7</th>\n",
       "      <td>s8</td>\n",
       "      <td>Movie</td>\n",
       "      <td>Sankofa</td>\n",
       "      <td>Haile Gerima</td>\n",
       "      <td>Kofi Ghanaba, Oyafunmike Ogunlano, Alexandra D...</td>\n",
       "      <td>United States, Ghana, Burkina Faso, United Kin...</td>\n",
       "      <td>September 24, 2021</td>\n",
       "      <td>1993</td>\n",
       "      <td>TV-MA</td>\n",
       "      <td>125 min</td>\n",
       "      <td>Dramas, Independent Movies, International Movies</td>\n",
       "      <td>On a photo shoot in Ghana, an American model s...</td>\n",
       "    </tr>\n",
       "    <tr>\n",
       "      <th>8</th>\n",
       "      <td>s9</td>\n",
       "      <td>TV Show</td>\n",
       "      <td>The Great British Baking Show</td>\n",
       "      <td>Andy Devonshire</td>\n",
       "      <td>Mel Giedroyc, Sue Perkins, Mary Berry, Paul Ho...</td>\n",
       "      <td>United Kingdom</td>\n",
       "      <td>September 24, 2021</td>\n",
       "      <td>2021</td>\n",
       "      <td>TV-14</td>\n",
       "      <td>9 Seasons</td>\n",
       "      <td>British TV Shows, Reality TV</td>\n",
       "      <td>A talented batch of amateur bakers face off in...</td>\n",
       "    </tr>\n",
       "    <tr>\n",
       "      <th>9</th>\n",
       "      <td>s10</td>\n",
       "      <td>Movie</td>\n",
       "      <td>The Starling</td>\n",
       "      <td>Theodore Melfi</td>\n",
       "      <td>Melissa McCarthy, Chris O'Dowd, Kevin Kline, T...</td>\n",
       "      <td>United States</td>\n",
       "      <td>September 24, 2021</td>\n",
       "      <td>2021</td>\n",
       "      <td>PG-13</td>\n",
       "      <td>104 min</td>\n",
       "      <td>Comedies, Dramas</td>\n",
       "      <td>A woman adjusting to life after a loss contend...</td>\n",
       "    </tr>\n",
       "    <tr>\n",
       "      <th>12</th>\n",
       "      <td>s13</td>\n",
       "      <td>Movie</td>\n",
       "      <td>Je Suis Karl</td>\n",
       "      <td>Christian Schwochow</td>\n",
       "      <td>Luna Wedler, Jannis Niewöhner, Milan Peschel, ...</td>\n",
       "      <td>Germany, Czech Republic</td>\n",
       "      <td>September 23, 2021</td>\n",
       "      <td>2021</td>\n",
       "      <td>TV-MA</td>\n",
       "      <td>127 min</td>\n",
       "      <td>Dramas, International Movies</td>\n",
       "      <td>After most of her family is murdered in a terr...</td>\n",
       "    </tr>\n",
       "    <tr>\n",
       "      <th>24</th>\n",
       "      <td>s25</td>\n",
       "      <td>Movie</td>\n",
       "      <td>Jeans</td>\n",
       "      <td>S. Shankar</td>\n",
       "      <td>Prashanth, Aishwarya Rai Bachchan, Sri Lakshmi...</td>\n",
       "      <td>India</td>\n",
       "      <td>September 21, 2021</td>\n",
       "      <td>1998</td>\n",
       "      <td>TV-14</td>\n",
       "      <td>166 min</td>\n",
       "      <td>Comedies, International Movies, Romantic Movies</td>\n",
       "      <td>When the father of the man she loves insists t...</td>\n",
       "    </tr>\n",
       "  </tbody>\n",
       "</table>\n",
       "</div>"
      ],
      "text/plain": [
       "   show_id category                          title             director  \\\n",
       "7       s8    Movie                        Sankofa         Haile Gerima   \n",
       "8       s9  TV Show  The Great British Baking Show      Andy Devonshire   \n",
       "9      s10    Movie                   The Starling       Theodore Melfi   \n",
       "12     s13    Movie                   Je Suis Karl  Christian Schwochow   \n",
       "24     s25    Movie                          Jeans           S. Shankar   \n",
       "\n",
       "                                                 cast  \\\n",
       "7   Kofi Ghanaba, Oyafunmike Ogunlano, Alexandra D...   \n",
       "8   Mel Giedroyc, Sue Perkins, Mary Berry, Paul Ho...   \n",
       "9   Melissa McCarthy, Chris O'Dowd, Kevin Kline, T...   \n",
       "12  Luna Wedler, Jannis Niewöhner, Milan Peschel, ...   \n",
       "24  Prashanth, Aishwarya Rai Bachchan, Sri Lakshmi...   \n",
       "\n",
       "                                              country          date_added  \\\n",
       "7   United States, Ghana, Burkina Faso, United Kin...  September 24, 2021   \n",
       "8                                      United Kingdom  September 24, 2021   \n",
       "9                                       United States  September 24, 2021   \n",
       "12                            Germany, Czech Republic  September 23, 2021   \n",
       "24                                              India  September 21, 2021   \n",
       "\n",
       "    release_year rating   duration  \\\n",
       "7           1993  TV-MA    125 min   \n",
       "8           2021  TV-14  9 Seasons   \n",
       "9           2021  PG-13    104 min   \n",
       "12          2021  TV-MA    127 min   \n",
       "24          1998  TV-14    166 min   \n",
       "\n",
       "                                           listed_in  \\\n",
       "7   Dramas, Independent Movies, International Movies   \n",
       "8                       British TV Shows, Reality TV   \n",
       "9                                   Comedies, Dramas   \n",
       "12                      Dramas, International Movies   \n",
       "24   Comedies, International Movies, Romantic Movies   \n",
       "\n",
       "                                          description  \n",
       "7   On a photo shoot in Ghana, an American model s...  \n",
       "8   A talented batch of amateur bakers face off in...  \n",
       "9   A woman adjusting to life after a loss contend...  \n",
       "12  After most of her family is murdered in a terr...  \n",
       "24  When the father of the man she loves insists t...  "
      ]
     },
     "execution_count": 27,
     "metadata": {},
     "output_type": "execute_result"
    }
   ],
   "source": [
    "DATA.head()"
   ]
  },
  {
   "cell_type": "code",
   "execution_count": null,
   "id": "ef0e9d1d-7cc5-482f-8428-87a30f4bac11",
   "metadata": {},
   "outputs": [],
   "source": [
    "DATA[DATA['cast'].str.contains('Tom Cruise')]"
   ]
  },
  {
   "cell_type": "markdown",
   "id": "9669c27c-304e-41b7-ad8f-8bbcf6f87125",
   "metadata": {},
   "source": [
    "Q.8) WHAT ARE THE DIFFERENT RATINGS DEFINED BY NETFLIX ?"
   ]
  },
  {
   "cell_type": "code",
   "execution_count": null,
   "id": "9e859a5c-e163-49eb-a170-1cc0ed6110f4",
   "metadata": {},
   "outputs": [],
   "source": [
    "data.head(2) #with null values"
   ]
  },
  {
   "cell_type": "code",
   "execution_count": null,
   "id": "637d4628-954c-4344-9d56-d75cbdb923bd",
   "metadata": {},
   "outputs": [],
   "source": [
    "DATA.head(2)    # new data with null values"
   ]
  },
  {
   "cell_type": "code",
   "execution_count": null,
   "id": "df572066-26dc-4cb6-8423-9a8edb05bac3",
   "metadata": {},
   "outputs": [],
   "source": [
    "data['rating'].nunique() # there are 17 differ rating defined by netflix"
   ]
  },
  {
   "cell_type": "code",
   "execution_count": null,
   "id": "dc108c52-93f6-4a06-a78e-b77ee2bf0f35",
   "metadata": {},
   "outputs": [],
   "source": [
    "data['rating'].unique() "
   ]
  },
  {
   "cell_type": "markdown",
   "id": "d8ba3f8b-bc0a-4d66-8f57-2f87bee6d3fe",
   "metadata": {},
   "source": [
    "HOW MANY MOVIES GOT THE TV-14 RATING IN CANADA?"
   ]
  },
  {
   "cell_type": "code",
   "execution_count": 21,
   "id": "6085f938-d725-440f-b98c-12463bed264b",
   "metadata": {},
   "outputs": [
    {
     "data": {
      "text/plain": [
       "(13, 12)"
      ]
     },
     "execution_count": 21,
     "metadata": {},
     "output_type": "execute_result"
    }
   ],
   "source": [
    "data[(data['category']=='Movie')&(data['rating']=='TV-14')&(data['country']=='Canada')].shape"
   ]
  },
  {
   "cell_type": "markdown",
   "id": "a0b2498c-e170-48de-be0a-25ac5aa79c4f",
   "metadata": {},
   "source": [
    "HOW MANY TV SHOW GOT R RATING AFTER 2018 ?"
   ]
  },
  {
   "cell_type": "code",
   "execution_count": 29,
   "id": "8e1fab64-66d4-4e4f-a476-eeb613b2ea67",
   "metadata": {},
   "outputs": [
    {
     "data": {
      "text/html": [
       "<div>\n",
       "<style scoped>\n",
       "    .dataframe tbody tr th:only-of-type {\n",
       "        vertical-align: middle;\n",
       "    }\n",
       "\n",
       "    .dataframe tbody tr th {\n",
       "        vertical-align: top;\n",
       "    }\n",
       "\n",
       "    .dataframe thead th {\n",
       "        text-align: right;\n",
       "    }\n",
       "</style>\n",
       "<table border=\"1\" class=\"dataframe\">\n",
       "  <thead>\n",
       "    <tr style=\"text-align: right;\">\n",
       "      <th></th>\n",
       "      <th>show_id</th>\n",
       "      <th>category</th>\n",
       "      <th>title</th>\n",
       "      <th>director</th>\n",
       "      <th>cast</th>\n",
       "      <th>country</th>\n",
       "      <th>date_added</th>\n",
       "      <th>release_year</th>\n",
       "      <th>rating</th>\n",
       "      <th>duration</th>\n",
       "      <th>listed_in</th>\n",
       "      <th>description</th>\n",
       "    </tr>\n",
       "  </thead>\n",
       "  <tbody>\n",
       "  </tbody>\n",
       "</table>\n",
       "</div>"
      ],
      "text/plain": [
       "Empty DataFrame\n",
       "Columns: [show_id, category, title, director, cast, country, date_added, release_year, rating, duration, listed_in, description]\n",
       "Index: []"
      ]
     },
     "execution_count": 29,
     "metadata": {},
     "output_type": "execute_result"
    }
   ],
   "source": [
    "data[(data['category']=='TV Show')&(data['rating']=='R')&(data['release_year'] >2018)]"
   ]
  },
  {
   "cell_type": "code",
   "execution_count": null,
   "id": "d98dffa0-b7cf-432a-9952-018ad1167961",
   "metadata": {},
   "outputs": [],
   "source": []
  }
 ],
 "metadata": {
  "kernelspec": {
   "display_name": "Python 3 (ipykernel)",
   "language": "python",
   "name": "python3"
  },
  "language_info": {
   "codemirror_mode": {
    "name": "ipython",
    "version": 3
   },
   "file_extension": ".py",
   "mimetype": "text/x-python",
   "name": "python",
   "nbconvert_exporter": "python",
   "pygments_lexer": "ipython3",
   "version": "3.9.13"
  }
 },
 "nbformat": 4,
 "nbformat_minor": 5
}
